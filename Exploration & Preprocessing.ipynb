{
 "cells": [
  {
   "cell_type": "code",
   "execution_count": 1,
   "id": "c5383e5e",
   "metadata": {},
   "outputs": [
    {
     "name": "stderr",
     "output_type": "stream",
     "text": [
      "[nltk_data] Downloading package punkt to\n",
      "[nltk_data]     C:\\Users\\veselin\\AppData\\Roaming\\nltk_data...\n",
      "[nltk_data]   Package punkt is already up-to-date!\n"
     ]
    }
   ],
   "source": [
    "import glob\n",
    "import re\n",
    "import pandas as pd\n",
    "import numpy as np\n",
    "import matplotlib.pyplot as plt\n",
    "import seaborn as sns\n",
    "sns.set() \n",
    "\n",
    "import nltk\n",
    "nltk.download('punkt')\n",
    "from nltk.tokenize import sent_tokenize"
   ]
  },
  {
   "cell_type": "markdown",
   "id": "da36cc0e",
   "metadata": {},
   "source": [
    "## Data"
   ]
  },
  {
   "cell_type": "markdown",
   "id": "aaa92211",
   "metadata": {},
   "source": [
    "### Load data"
   ]
  },
  {
   "cell_type": "code",
   "execution_count": 76,
   "id": "7a18b453",
   "metadata": {},
   "outputs": [
    {
     "data": {
      "text/html": [
       "<div>\n",
       "<style scoped>\n",
       "    .dataframe tbody tr th:only-of-type {\n",
       "        vertical-align: middle;\n",
       "    }\n",
       "\n",
       "    .dataframe tbody tr th {\n",
       "        vertical-align: top;\n",
       "    }\n",
       "\n",
       "    .dataframe thead th {\n",
       "        text-align: right;\n",
       "    }\n",
       "</style>\n",
       "<table border=\"1\" class=\"dataframe\">\n",
       "  <thead>\n",
       "    <tr style=\"text-align: right;\">\n",
       "      <th></th>\n",
       "      <th>Unnamed: 0</th>\n",
       "      <th>id</th>\n",
       "      <th>conversation_id</th>\n",
       "      <th>created_at</th>\n",
       "      <th>date</th>\n",
       "      <th>timezone</th>\n",
       "      <th>place</th>\n",
       "      <th>tweet</th>\n",
       "      <th>language</th>\n",
       "      <th>hashtags</th>\n",
       "      <th>...</th>\n",
       "      <th>reply_to</th>\n",
       "      <th>retweet_date</th>\n",
       "      <th>translate</th>\n",
       "      <th>trans_src</th>\n",
       "      <th>trans_dest</th>\n",
       "      <th>time</th>\n",
       "      <th>mentions</th>\n",
       "      <th>replies_count</th>\n",
       "      <th>retweets_count</th>\n",
       "      <th>likes_count</th>\n",
       "    </tr>\n",
       "  </thead>\n",
       "  <tbody>\n",
       "    <tr>\n",
       "      <th>0</th>\n",
       "      <td>0.0</td>\n",
       "      <td>15434727182</td>\n",
       "      <td>15434727182</td>\n",
       "      <td>1.27568e+12</td>\n",
       "      <td>2010-06-04 18:31:57</td>\n",
       "      <td>0</td>\n",
       "      <td>NaN</td>\n",
       "      <td>Please ignore prior tweets, as that was someon...</td>\n",
       "      <td>en</td>\n",
       "      <td>[]</td>\n",
       "      <td>...</td>\n",
       "      <td>[]</td>\n",
       "      <td>NaN</td>\n",
       "      <td>NaN</td>\n",
       "      <td>NaN</td>\n",
       "      <td>NaN</td>\n",
       "      <td>NaN</td>\n",
       "      <td>NaN</td>\n",
       "      <td>NaN</td>\n",
       "      <td>NaN</td>\n",
       "      <td>NaN</td>\n",
       "    </tr>\n",
       "    <tr>\n",
       "      <th>0</th>\n",
       "      <td>0.0</td>\n",
       "      <td>152153637639028736</td>\n",
       "      <td>152151847614943233</td>\n",
       "      <td>1.32511e+12</td>\n",
       "      <td>2011-12-28 22:27:08</td>\n",
       "      <td>0</td>\n",
       "      <td>NaN</td>\n",
       "      <td>@TheOnion So true :)</td>\n",
       "      <td>en</td>\n",
       "      <td>[]</td>\n",
       "      <td>...</td>\n",
       "      <td>[]</td>\n",
       "      <td>NaN</td>\n",
       "      <td>NaN</td>\n",
       "      <td>NaN</td>\n",
       "      <td>NaN</td>\n",
       "      <td>NaN</td>\n",
       "      <td>NaN</td>\n",
       "      <td>NaN</td>\n",
       "      <td>NaN</td>\n",
       "      <td>NaN</td>\n",
       "    </tr>\n",
       "    <tr>\n",
       "      <th>1</th>\n",
       "      <td>1.0</td>\n",
       "      <td>151809315026636800</td>\n",
       "      <td>151809315026636800</td>\n",
       "      <td>1.32503e+12</td>\n",
       "      <td>2011-12-27 23:38:55</td>\n",
       "      <td>0</td>\n",
       "      <td>NaN</td>\n",
       "      <td>If you ever wanted to know the *real* truth ab...</td>\n",
       "      <td>en</td>\n",
       "      <td>[]</td>\n",
       "      <td>...</td>\n",
       "      <td>[]</td>\n",
       "      <td>NaN</td>\n",
       "      <td>NaN</td>\n",
       "      <td>NaN</td>\n",
       "      <td>NaN</td>\n",
       "      <td>NaN</td>\n",
       "      <td>NaN</td>\n",
       "      <td>NaN</td>\n",
       "      <td>NaN</td>\n",
       "      <td>NaN</td>\n",
       "    </tr>\n",
       "  </tbody>\n",
       "</table>\n",
       "<p>3 rows × 44 columns</p>\n",
       "</div>"
      ],
      "text/plain": [
       "   Unnamed: 0                  id     conversation_id   created_at  \\\n",
       "0         0.0         15434727182         15434727182  1.27568e+12   \n",
       "0         0.0  152153637639028736  152151847614943233  1.32511e+12   \n",
       "1         1.0  151809315026636800  151809315026636800  1.32503e+12   \n",
       "\n",
       "                  date  timezone  place  \\\n",
       "0  2010-06-04 18:31:57         0    NaN   \n",
       "0  2011-12-28 22:27:08         0    NaN   \n",
       "1  2011-12-27 23:38:55         0    NaN   \n",
       "\n",
       "                                               tweet language hashtags  ...  \\\n",
       "0  Please ignore prior tweets, as that was someon...       en       []  ...   \n",
       "0                               @TheOnion So true :)       en       []  ...   \n",
       "1  If you ever wanted to know the *real* truth ab...       en       []  ...   \n",
       "\n",
       "  reply_to  retweet_date  translate trans_src trans_dest  time  mentions  \\\n",
       "0       []           NaN        NaN       NaN        NaN   NaN       NaN   \n",
       "0       []           NaN        NaN       NaN        NaN   NaN       NaN   \n",
       "1       []           NaN        NaN       NaN        NaN   NaN       NaN   \n",
       "\n",
       "  replies_count retweets_count likes_count  \n",
       "0           NaN            NaN         NaN  \n",
       "0           NaN            NaN         NaN  \n",
       "1           NaN            NaN         NaN  \n",
       "\n",
       "[3 rows x 44 columns]"
      ]
     },
     "execution_count": 76,
     "metadata": {},
     "output_type": "execute_result"
    }
   ],
   "source": [
    "directoryPath = 'Data/elon_musk_twitter/'\n",
    "\n",
    "data = pd.DataFrame()\n",
    "\n",
    "for file_name in glob.glob(directoryPath+'*.csv'):\n",
    "    x = pd.read_csv(file_name, low_memory=False)\n",
    "    data = pd.concat([data,x],axis=0)\n",
    "    \n",
    "data.head(3)"
   ]
  },
  {
   "cell_type": "markdown",
   "id": "7437b410",
   "metadata": {},
   "source": [
    "### Exploration and Preprocessing"
   ]
  },
  {
   "cell_type": "code",
   "execution_count": 77,
   "id": "e75e4e6a",
   "metadata": {},
   "outputs": [
    {
     "name": "stdout",
     "output_type": "stream",
     "text": [
      "<class 'pandas.core.frame.DataFrame'>\n",
      "Int64Index: 34878 entries, 0 to 1027\n",
      "Data columns (total 44 columns):\n",
      " #   Column           Non-Null Count  Dtype  \n",
      "---  ------           --------------  -----  \n",
      " 0   Unnamed: 0       30735 non-null  float64\n",
      " 1   id               34878 non-null  int64  \n",
      " 2   conversation_id  34878 non-null  int64  \n",
      " 3   created_at       34878 non-null  object \n",
      " 4   date             34878 non-null  object \n",
      " 5   timezone         34878 non-null  int64  \n",
      " 6   place            0 non-null      float64\n",
      " 7   tweet            34878 non-null  object \n",
      " 8   language         34878 non-null  object \n",
      " 9   hashtags         34878 non-null  object \n",
      " 10  cashtags         34878 non-null  object \n",
      " 11  user_id          34878 non-null  int64  \n",
      " 12  user_id_str      30735 non-null  float64\n",
      " 13  username         34878 non-null  object \n",
      " 14  name             34878 non-null  object \n",
      " 15  day              30735 non-null  float64\n",
      " 16  hour             30735 non-null  float64\n",
      " 17  link             34878 non-null  object \n",
      " 18  urls             34878 non-null  object \n",
      " 19  photos           34878 non-null  object \n",
      " 20  video            34878 non-null  int64  \n",
      " 21  thumbnail        2332 non-null   object \n",
      " 22  retweet          34878 non-null  bool   \n",
      " 23  nlikes           30735 non-null  float64\n",
      " 24  nreplies         30735 non-null  float64\n",
      " 25  nretweets        30735 non-null  float64\n",
      " 26  quote_url        1041 non-null   object \n",
      " 27  search           30735 non-null  object \n",
      " 28  near             0 non-null      float64\n",
      " 29  geo              0 non-null      float64\n",
      " 30  source           0 non-null      float64\n",
      " 31  user_rt_id       0 non-null      float64\n",
      " 32  user_rt          0 non-null      float64\n",
      " 33  retweet_id       0 non-null      float64\n",
      " 34  reply_to         34878 non-null  object \n",
      " 35  retweet_date     0 non-null      float64\n",
      " 36  translate        0 non-null      float64\n",
      " 37  trans_src        0 non-null      float64\n",
      " 38  trans_dest       0 non-null      float64\n",
      " 39  time             4143 non-null   object \n",
      " 40  mentions         4143 non-null   object \n",
      " 41  replies_count    4143 non-null   float64\n",
      " 42  retweets_count   4143 non-null   float64\n",
      " 43  likes_count      4143 non-null   float64\n",
      "dtypes: bool(1), float64(21), int64(5), object(17)\n",
      "memory usage: 11.7+ MB\n"
     ]
    }
   ],
   "source": [
    "# print information about the data\n",
    "data.info()"
   ]
  },
  {
   "cell_type": "code",
   "execution_count": 78,
   "id": "bf28f859",
   "metadata": {},
   "outputs": [],
   "source": [
    "# drop columns with any number of null values\n",
    "data = data.dropna(axis=1)"
   ]
  },
  {
   "cell_type": "code",
   "execution_count": 79,
   "id": "f54864a6",
   "metadata": {},
   "outputs": [
    {
     "data": {
      "text/plain": [
       "id                 15346\n",
       "conversation_id     8291\n",
       "created_at         15343\n",
       "date               12124\n",
       "timezone               2\n",
       "tweet              15219\n",
       "language              36\n",
       "hashtags              35\n",
       "cashtags               3\n",
       "user_id                1\n",
       "username               1\n",
       "name                   2\n",
       "link               15346\n",
       "urls                1204\n",
       "photos               904\n",
       "video                  2\n",
       "retweet                1\n",
       "reply_to            6648\n",
       "dtype: int64"
      ]
     },
     "execution_count": 79,
     "metadata": {},
     "output_type": "execute_result"
    }
   ],
   "source": [
    "# print unique values per column\n",
    "data.nunique()"
   ]
  },
  {
   "cell_type": "code",
   "execution_count": 80,
   "id": "6c0415ee",
   "metadata": {},
   "outputs": [],
   "source": [
    "# get relevant columns\n",
    "data = data[['id', 'conversation_id', 'created_at', 'date', 'tweet', 'language', 'link']]"
   ]
  },
  {
   "cell_type": "code",
   "execution_count": 81,
   "id": "956c018c",
   "metadata": {},
   "outputs": [],
   "source": [
    "# drop rows that are duplicate\n",
    "data = data.drop_duplicates()"
   ]
  },
  {
   "cell_type": "code",
   "execution_count": 82,
   "id": "e677ff83",
   "metadata": {},
   "outputs": [],
   "source": [
    "# convert column to datetime pandas\n",
    "data['date'] = pd.to_datetime(data['date'])"
   ]
  },
  {
   "cell_type": "code",
   "execution_count": 39,
   "id": "f356fab3",
   "metadata": {},
   "outputs": [],
   "source": [
    "# drop unused columns\n",
    "\n",
    "data = data[['date', 'tweet', 'language', 'tweet_length', 'number_of_tokens', 'sentence_count']]"
   ]
  },
  {
   "cell_type": "code",
   "execution_count": 41,
   "id": "7dad0316",
   "metadata": {},
   "outputs": [],
   "source": [
    "# remove url, @, &amp;, new line, double spaces, emoji\n",
    "def remove_emoji(string):\n",
    "    emoji_pattern = re.compile(\"[\"\n",
    "                               u\"\\U0001F600-\\U0001F64F\"  # emoticons\n",
    "                               u\"\\U0001F300-\\U0001F5FF\"  # symbols & pictographs\n",
    "                               u\"\\U0001F680-\\U0001F6FF\"  # transport & map symbols\n",
    "                               u\"\\U0001F1E0-\\U0001F1FF\"  # flags (iOS)\n",
    "                               u\"\\U00002500-\\U00002BEF\"  # chinese char\n",
    "                               u\"\\U00002702-\\U000027B0\"\n",
    "                               u\"\\U00002702-\\U000027B0\"\n",
    "                               u\"\\U000024C2-\\U0001F251\"\n",
    "                               u\"\\U0001f926-\\U0001f937\"\n",
    "                               u\"\\U00010000-\\U0010ffff\"\n",
    "                               u\"\\u2640-\\u2642\"\n",
    "                               u\"\\u2600-\\u2B55\"\n",
    "                               u\"\\u200d\"\n",
    "                               u\"\\u23cf\"\n",
    "                               u\"\\u23e9\"\n",
    "                               u\"\\u231a\"\n",
    "                               u\"\\ufe0f\"  # dingbats\n",
    "                               u\"\\u3030\"\n",
    "                               \"]+\", flags=re.UNICODE)\n",
    "    return emoji_pattern.sub(r'', string)\n",
    "\n",
    "TEXT_CLEANING_RE = \"@\\S+|https?:\\S+|http?:\\S|[^A-Za-z0-9]+\"\n",
    "new = []\n",
    "for t in data.tweet:\n",
    "    words = t.split()\n",
    "    t = t.split()\n",
    "    t = ' '.join(word for word in t if not word.startswith('@'))\n",
    "    t = t.split()\n",
    "    t = ' '.join(word for word in t if not word.startswith('http'))\n",
    "    t = t.strip()\n",
    "    t = \" \".join(t.split())\n",
    "    t = t.replace(' &amp; ',' ')\n",
    "    t = remove_emoji(t)\n",
    "    new.append(t)\n",
    "    \n",
    "data['tweet'] = new"
   ]
  },
  {
   "cell_type": "code",
   "execution_count": null,
   "id": "1b8c04ac",
   "metadata": {},
   "outputs": [],
   "source": [
    "# drop null values\n",
    "data = data.dropna()"
   ]
  },
  {
   "cell_type": "markdown",
   "id": "96032242",
   "metadata": {},
   "source": [
    "### Feature engeneering"
   ]
  },
  {
   "cell_type": "code",
   "execution_count": 83,
   "id": "e070d8f0",
   "metadata": {},
   "outputs": [],
   "source": [
    "# create new column of tweet length\n",
    "data['tweet_length'] = data['tweet'].str.len()"
   ]
  },
  {
   "cell_type": "code",
   "execution_count": 169,
   "id": "f20706c7",
   "metadata": {},
   "outputs": [],
   "source": [
    "# create new column of number of tokens in a tweet\n",
    "def number_of_tokens(tweet):\n",
    "    return len(tweet.split())\n",
    "    \n",
    "data['number_of_tokens'] = data.tweet.map(lambda tweet:number_of_tokens(tweet))"
   ]
  },
  {
   "cell_type": "code",
   "execution_count": 3,
   "id": "444218f0",
   "metadata": {},
   "outputs": [],
   "source": [
    "# number of sentences per tweet\n",
    "def number_of_sentences(tweet):\n",
    "    number_of_sentences = sent_tokenize(tweet)\n",
    "    return len(number_of_sentences)\n",
    "\n",
    "data = pd.read_csv('Data/elon_mulk_tweets.csv')\n",
    "data['sentence_count'] = data.tweet.map(lambda tweet:number_of_sentences(tweet))"
   ]
  },
  {
   "cell_type": "code",
   "execution_count": 38,
   "id": "405c2a93",
   "metadata": {},
   "outputs": [],
   "source": [
    "# save data\n",
    "data.to_csv('Data/elon_mulk_tweets.csv', index=False)"
   ]
  },
  {
   "cell_type": "code",
   "execution_count": 2,
   "id": "f68f2b22",
   "metadata": {},
   "outputs": [],
   "source": [
    "data = pd.read_csv(\"Data/elon_mulk_tweets.csv\")"
   ]
  },
  {
   "cell_type": "markdown",
   "id": "50d4f0dd",
   "metadata": {},
   "source": [
    "## Vizualization"
   ]
  },
  {
   "cell_type": "code",
   "execution_count": 182,
   "id": "74524c10",
   "metadata": {},
   "outputs": [
    {
     "data": {
      "text/plain": [
       "Text(0.5, 1.0, 'Number of tweets per year')"
      ]
     },
     "execution_count": 182,
     "metadata": {},
     "output_type": "execute_result"
    },
    {
     "data": {
      "image/png": "[encoded data removed]",
      "text/plain": [
       "<Figure size 1080x360 with 1 Axes>"
      ]
     },
     "metadata": {},
     "output_type": "display_data"
    }
   ],
   "source": [
    "# Plot number  of tweets per year\n",
    "\n",
    "plt.figure(figsize = (15,5))\n",
    "sns.histplot(x='date', data=data)\n",
    "plt.title('Number of tweets per year')"
   ]
  },
  {
   "cell_type": "code",
   "execution_count": 122,
   "id": "884d3875",
   "metadata": {},
   "outputs": [
    {
     "data": {
      "text/plain": [
       "Text(0.5, 1.0, 'Boxplot of tweet length')"
      ]
     },
     "execution_count": 122,
     "metadata": {},
     "output_type": "execute_result"
    },
    {
     "data": {
      "image/png": "[encoded data removed]",
      "text/plain": [
       "<Figure size 1440x360 with 2 Axes>"
      ]
     },
     "metadata": {},
     "output_type": "display_data"
    }
   ],
   "source": [
    "# Vizualize distribution of tweet lengths\n",
    "fig, axes = plt.subplots(1, 2, figsize=(20, 5))\n",
    "\n",
    "# histplot\n",
    "sns.histplot(ax=axes[0], x=\"tweet_length\", data=data)\n",
    "axes[0].set_title('Distribution of tweet length')\n",
    "\n",
    "# boxplot\n",
    "sns.boxplot(ax=axes[1], x='tweet_length', data=data)\n",
    "axes[1].set_title('Boxplot of tweet length')"
   ]
  },
  {
   "cell_type": "code",
   "execution_count": 3,
   "id": "7187dbb4",
   "metadata": {},
   "outputs": [
    {
     "data": {
      "text/plain": [
       "Text(0.5, 1.0, 'Number of tokens per tweet')"
      ]
     },
     "execution_count": 3,
     "metadata": {},
     "output_type": "execute_result"
    },
    {
     "data": {
      "image/png": "[encoded data removed]",
      "text/plain": [
       "<Figure size 1080x360 with 1 Axes>"
      ]
     },
     "metadata": {},
     "output_type": "display_data"
    }
   ],
   "source": [
    "# Plot number of tokens per tweet\n",
    "\n",
    "plt.figure(figsize = (15,5))\n",
    "sns.histplot( x='number_of_tokens', data=data)\n",
    "plt.title('Number of tokens per tweet')"
   ]
  },
  {
   "cell_type": "code",
   "execution_count": 8,
   "id": "08157d43",
   "metadata": {},
   "outputs": [
    {
     "data": {
      "text/plain": [
       "Text(0.5, 1.0, 'Distribution of number of sentences per tweet')"
      ]
     },
     "execution_count": 8,
     "metadata": {},
     "output_type": "execute_result"
    },
    {
     "data": {
      "image/png": "[encoded data removed]",
      "text/plain": [
       "<Figure size 1440x360 with 2 Axes>"
      ]
     },
     "metadata": {},
     "output_type": "display_data"
    }
   ],
   "source": [
    "# Plot distribution of number of sentences per tweet and number of tokens per tweet\n",
    "\n",
    "fig, axes = plt.subplots(1, 2, figsize=(20, 5))\n",
    "\n",
    "# histplot\n",
    "sns.boxplot(ax=axes[0], x=\"number_of_tokens\", data=data)\n",
    "axes[0].set_title('Distribution of number of tokens per tweet')\n",
    "\n",
    "# boxplot\n",
    "sns.boxplot(ax=axes[1], x='sentence_count', data=data)\n",
    "axes[1].set_title('Distribution of number of sentences per tweet')"
   ]
  },
  {
   "cell_type": "code",
   "execution_count": 10,
   "id": "267a702f",
   "metadata": {},
   "outputs": [
    {
     "data": {
      "text/plain": [
       "<AxesSubplot:xlabel='sentence_count', ylabel='Count'>"
      ]
     },
     "execution_count": 10,
     "metadata": {},
     "output_type": "execute_result"
    },
    {
     "data": {
      "image/png": "[encoded data removed]",
      "text/plain": [
       "<Figure size 432x288 with 1 Axes>"
      ]
     },
     "metadata": {},
     "output_type": "display_data"
    }
   ],
   "source": [
    "# boxplot\n",
    "sns.histplot(x='sentence_count', data=data)"
   ]
  },
  {
   "cell_type": "code",
   "execution_count": null,
   "id": "efa45caa",
   "metadata": {},
   "outputs": [],
   "source": [
    "# Plot number of sentences per tweet\n",
    "\n",
    "plt.figure(figsize = (15,5))\n",
    "sns.histplot( x='sentence_count', data=data)\n",
    "plt.title('Number of sentences per tweet')"
   ]
  },
  {
   "cell_type": "code",
   "execution_count": 177,
   "id": "03dcce20",
   "metadata": {},
   "outputs": [
    {
     "data": {
      "text/plain": [
       "Text(0.5, 1.0, 'Number of tokens per tweet for undefined language')"
      ]
     },
     "execution_count": 177,
     "metadata": {},
     "output_type": "execute_result"
    },
    {
     "data": {
      "image/png": "[encoded data removed]",
      "text/plain": [
       "<Figure size 1152x720 with 2 Axes>"
      ]
     },
     "metadata": {},
     "output_type": "display_data"
    }
   ],
   "source": [
    "# Plot length of tweets where language is undefined\n",
    "fig, axes = plt.subplots(2, 1, figsize=(16, 10))\n",
    "\n",
    "sns.histplot(ax=axes[0],x='tweet_length', data=data.loc[data.language=='und'])\n",
    "axes[0].set_title('Length of tweets for undefined language')\n",
    "\n",
    "sns.histplot(ax=axes[1], x='number_of_tokens', data=data.loc[data.language=='und'])\n",
    "axes[1].set_title('Number of tokens per tweet for undefined language')"
   ]
  },
  {
   "cell_type": "code",
   "execution_count": null,
   "id": "207ec25b",
   "metadata": {},
   "outputs": [],
   "source": []
  }
 ],
 "metadata": {
  "kernelspec": {
   "display_name": "Python 3",
   "language": "python",
   "name": "python3"
  },
  "language_info": {
   "codemirror_mode": {
    "name": "ipython",
    "version": 3
   },
   "file_extension": ".py",
   "mimetype": "text/x-python",
   "name": "python",
   "nbconvert_exporter": "python",
   "pygments_lexer": "ipython3",
   "version": "3.8.4"
  }
 },
 "nbformat": 4,
 "nbformat_minor": 5
}
